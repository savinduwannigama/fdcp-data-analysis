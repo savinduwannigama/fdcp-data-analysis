{
 "cells": [
  {
   "attachments": {},
   "cell_type": "markdown",
   "metadata": {},
   "source": [
    "### Compares flowResulsts of different level metadata checks to detect the \"no-matches\" happening due adding metadata checks"
   ]
  },
  {
   "cell_type": "code",
   "execution_count": 15,
   "metadata": {},
   "outputs": [],
   "source": [
    "# importing pandas as pd\n",
    "import pandas as pd\n",
    "import math\n",
    "import matplotlib.pyplot as plt\n",
    "import seaborn as sns"
   ]
  },
  {
   "cell_type": "code",
   "execution_count": 16,
   "metadata": {},
   "outputs": [],
   "source": [
    "# switches\n",
    "separateDevices = True\n",
    "allDevices = True"
   ]
  },
  {
   "cell_type": "code",
   "execution_count": 17,
   "metadata": {},
   "outputs": [],
   "source": [
    "# array contains all the flowResult files which belongs to this MUD flow\n",
    "# DUP\n",
    "all_files = [\n",
    "             \"AwairAirQuality_70886b100fc6.pcap\", \n",
    "             \"LiFXBulb_d073d5018308.pcap\", \n",
    "             \"PixStarPhotoFrame_e076d033bb85.pcap\", \n",
    "             \"RingDoorBell_884aea31669d.pcap\",\n",
    "             \"TPLinkCamera_f4f26D9351f1.pcap\", \n",
    "             \"TribySpeaker_18B79E022044.pcap\", \n",
    "             \"AmazonEcho/DUP_CONCATANATED_AmazonEcho_44650d56ccd3\", \n",
    "             \"NestProtect/DUP_CONCATANATED_NestProtect_18b43025bee4\",\n",
    "             \"WithingsSleepSensor/DUP_CONCATANATED_WithingsSleepSensor_0024e42028c6\"\n",
    "             ]"
   ]
  },
  {
   "cell_type": "code",
   "execution_count": 18,
   "metadata": {},
   "outputs": [],
   "source": [
    "filePath0 = 'flowResults/V4/noMetadata/'\n",
    "filePath1 = 'flowResults/V4/EtherTypeORIPProtoCheck/'\n",
    "filePath2 = 'flowResults/V4/TrafficModeCheck/'\n",
    "filePath3 = 'flowResults/V4/both/'\n",
    "\n",
    "fileType = '_flowResult.csv'"
   ]
  },
  {
   "cell_type": "code",
   "execution_count": 19,
   "metadata": {},
   "outputs": [],
   "source": [
    "# loading all the files as pandas dataframes\n",
    "all_dfs0 = []\n",
    "all_dfs1 = []\n",
    "all_dfs2 = []\n",
    "all_dfs3 = []\n",
    "\n",
    "for filename in all_files:\n",
    "    df = pd.read_csv(\"../../../../data/\" + filePath0 + filename + fileType)\n",
    "    all_dfs0.append(df)\n",
    "\n",
    "for filename in all_files:\n",
    "    df = pd.read_csv(\"../../../../data/\" + filePath1 + filename + fileType)\n",
    "    all_dfs1.append(df)\n",
    "\n",
    "for filename in all_files:\n",
    "    df = pd.read_csv(\"../../../../data/\" + filePath2 + filename + fileType)\n",
    "    all_dfs2.append(df)\n",
    "\n",
    "for filename in all_files:\n",
    "    df = pd.read_csv(\"../../../../data/\" + filePath3 + filename + fileType)\n",
    "    all_dfs3.append(df)"
   ]
  },
  {
   "cell_type": "code",
   "execution_count": 20,
   "metadata": {},
   "outputs": [
    {
     "data": {
      "text/plain": [
       "Index(['srcMac', ' dstMac', ' ethType', ' srcIp', ' dstIp', ' ipProto',\n",
       "       ' srcPort', ' dstPort', ' protocol', ' allMatches'],\n",
       "      dtype='object')"
      ]
     },
     "execution_count": 20,
     "metadata": {},
     "output_type": "execute_result"
    }
   ],
   "source": [
    "all_dfs0[0].columns"
   ]
  },
  {
   "attachments": {},
   "cell_type": "markdown",
   "metadata": {},
   "source": [
    "#### No Metadata vs. EtherTypeORIPProtoCheck"
   ]
  },
  {
   "cell_type": "code",
   "execution_count": 21,
   "metadata": {},
   "outputs": [],
   "source": [
    "pos = 0\n",
    "csvPath = '../../../../results/flowResults/V4/0_matches/compareMetadataChecksWithNoMetadata/noMetadataVSEtherTypeORIPProtoCheck/'\n",
    "# csvFile = 'noMetadataVSEtherTypeORIPProtoCheck_'\n",
    "csvHeader = 'UnmatchedFlow,UnmatchedProtocols,Count\\n'\n",
    "for df0, df1 in zip(all_dfs0, all_dfs1):\n",
    "    diff = {}\n",
    "    for i in range(len(df0)):\n",
    "        # finding flows which are a match in no metadata check and 0 matched with metadata\n",
    "        if df0.iloc[i][' protocol'] != 'none' and df1.iloc[i][' protocol'] == 'none':\n",
    "            # increasing the count if the flow already exists in the dict\n",
    "            if ( str(df0.iloc[i][' ipProto']) + '-' + str(df0.iloc[i][' dstPort']) ) in diff:\n",
    "                diff[str(df0.iloc[i][' ipProto']) + '-' + str(df0.iloc[i][' dstPort'])][1] += 1\n",
    "            # if not in the dict already, add new key with count 1\n",
    "            else:\n",
    "                diff[str(df0.iloc[i][' ipProto']) + '-' + str(df0.iloc[i][' dstPort'])] = [df0.iloc[i][' allMatches'], 1]\n",
    "    \n",
    "    # writing the diff file for a device\n",
    "    with open(csvPath + all_files[pos].split('.')[0] + '.csv', 'w') as f:\n",
    "        f.write(csvHeader)\n",
    "        for key in diff.keys():\n",
    "            f.write(\"%s,%s,%s\\n\"%(key,str(diff[key][0]),diff[key][1]))\n",
    "    pos += 1\n",
    "    # if len(df0) == len(df1):\n",
    "    #     print('eq')\n",
    "    # else: print('ineq')\n",
    "# print(df0.iloc[0]['srcMac'])"
   ]
  },
  {
   "attachments": {},
   "cell_type": "markdown",
   "metadata": {},
   "source": [
    "#### No Metadata vs. TrafficModeCheck"
   ]
  },
  {
   "cell_type": "code",
   "execution_count": 22,
   "metadata": {},
   "outputs": [],
   "source": [
    "pos = 0\n",
    "csvPath = '../../../../results/flowResults/V4/0_matches/compareMetadataChecksWithNoMetadata/noMetadataVSTrafficModeCheck/'\n",
    "# csvFile = 'noMetadataVSEtherTypeORIPProtoCheck_'\n",
    "csvHeader = 'UnmatchedFlow,UnmatchedProtocols,Count\\n'\n",
    "for df0, df2 in zip(all_dfs0, all_dfs2):\n",
    "    diff = {}\n",
    "    for i in range(len(df0)):\n",
    "        # finding flows which are a match in no metadata check and 0 matched with metadata\n",
    "        if df0.iloc[i][' protocol'] != 'none' and df2.iloc[i][' protocol'] == 'none':\n",
    "            # increasing the count if the flow already exists in the dict\n",
    "            if ( str(df0.iloc[i][' ipProto']) + '-' + str(df0.iloc[i][' dstPort']) ) in diff:\n",
    "                diff[str(df0.iloc[i][' ipProto']) + '-' + str(df0.iloc[i][' dstPort'])][1] += 1\n",
    "            # if not in the dict already, add new key with count 1\n",
    "            else:\n",
    "                diff[str(df0.iloc[i][' ipProto']) + '-' + str(df0.iloc[i][' dstPort'])] = [df0.iloc[i][' allMatches'], 1]\n",
    "    \n",
    "    # writing the diff file for a device\n",
    "    with open(csvPath + all_files[pos].split('.')[0] + '.csv', 'w') as f:\n",
    "        f.write(csvHeader)\n",
    "        for key in diff.keys():\n",
    "            f.write(\"%s,%s,%s\\n\"%(key,str(diff[key][0]),diff[key][1]))\n",
    "    pos += 1\n",
    "    # if len(df0) == len(df1):\n",
    "    #     print('eq')\n",
    "    # else: print('ineq')\n",
    "# print(df0.iloc[0]['srcMac'])"
   ]
  },
  {
   "attachments": {},
   "cell_type": "markdown",
   "metadata": {},
   "source": [
    "#### No Metadata vs. both"
   ]
  },
  {
   "cell_type": "code",
   "execution_count": 23,
   "metadata": {},
   "outputs": [],
   "source": [
    "pos = 0\n",
    "csvPath = '../../../../results/flowResults/V4/0_matches/compareMetadataChecksWithNoMetadata/noMetadataVSbothCheck/'\n",
    "# csvFile = 'noMetadataVSEtherTypeORIPProtoCheck_'\n",
    "csvHeader = 'UnmatchedFlow,UnmatchedProtocols,Count\\n'\n",
    "for df0, df3 in zip(all_dfs0, all_dfs3):\n",
    "    diff = {}\n",
    "    for i in range(len(df0)):\n",
    "        # finding flows which are a match in no metadata check and 0 matched with metadata\n",
    "        if df0.iloc[i][' protocol'] != 'none' and df3.iloc[i][' protocol'] == 'none':\n",
    "            # increasing the count if the flow already exists in the dict\n",
    "            if ( str(df0.iloc[i][' ipProto']) + '-' + str(df0.iloc[i][' dstPort']) ) in diff:\n",
    "                diff[str(df0.iloc[i][' ipProto']) + '-' + str(df0.iloc[i][' dstPort'])][1] += 1\n",
    "            # if not in the dict already, add new key with count 1\n",
    "            else:\n",
    "                diff[str(df0.iloc[i][' ipProto']) + '-' + str(df0.iloc[i][' dstPort'])] = [df0.iloc[i][' allMatches'], 1]\n",
    "    \n",
    "    # writing the diff file for a device\n",
    "    with open(csvPath + all_files[pos].split('.')[0] + '.csv', 'w') as f:\n",
    "        f.write(csvHeader)\n",
    "        for key in diff.keys():\n",
    "            f.write(\"%s,%s,%s\\n\"%(key,str(diff[key][0]),diff[key][1]))\n",
    "    pos += 1\n",
    "    # if len(df0) == len(df1):\n",
    "    #     print('eq')\n",
    "    # else: print('ineq')\n",
    "# print(df0.iloc[0]['srcMac'])"
   ]
  }
 ],
 "metadata": {
  "kernelspec": {
   "display_name": "Python 3",
   "language": "python",
   "name": "python3"
  },
  "language_info": {
   "codemirror_mode": {
    "name": "ipython",
    "version": 3
   },
   "file_extension": ".py",
   "mimetype": "text/x-python",
   "name": "python",
   "nbconvert_exporter": "python",
   "pygments_lexer": "ipython3",
   "version": "3.10.6"
  },
  "orig_nbformat": 4,
  "vscode": {
   "interpreter": {
    "hash": "916dbcbb3f70747c44a77c7bcd40155683ae19c65e1c03b4aa3499c5328201f1"
   }
  }
 },
 "nbformat": 4,
 "nbformat_minor": 2
}
