{
 "cells": [
  {
   "cell_type": "code",
   "execution_count": 160,
   "metadata": {},
   "outputs": [],
   "source": [
    "# importing pandas as pd\n",
    "import pandas as pd\n",
    "\n"
   ]
  },
  {
   "attachments": {},
   "cell_type": "markdown",
   "metadata": {},
   "source": [
    "### Peek at the dataset\n"
   ]
  },
  {
   "cell_type": "code",
   "execution_count": 161,
   "metadata": {},
   "outputs": [
    {
     "name": "stdout",
     "output_type": "stream",
     "text": [
      "<class 'pandas.core.frame.DataFrame'>\n",
      "RangeIndex: 56478 entries, 0 to 56477\n",
      "Data columns (total 12 columns):\n",
      " #   Column                 Non-Null Count  Dtype  \n",
      "---  ------                 --------------  -----  \n",
      " 0   srcMac                 0 non-null      float64\n",
      " 1    dstMac                0 non-null      float64\n",
      " 2    ethType               56478 non-null  object \n",
      " 3    srcIp                 56478 non-null  object \n",
      " 4    dstIp                 56478 non-null  object \n",
      " 5    ipProto               56478 non-null  int64  \n",
      " 6    srcPort               56478 non-null  object \n",
      " 7    dstPort               56478 non-null  object \n",
      " 8    protocol              56478 non-null  object \n",
      " 9    allMatches            56478 non-null  object \n",
      " 10   numPayloadOnePackets  56478 non-null  int64  \n",
      " 11   numPayloadTwoPackets  56478 non-null  int64  \n",
      "dtypes: float64(2), int64(3), object(7)\n",
      "memory usage: 5.2+ MB\n",
      "None\n",
      "   srcMac   dstMac  ethType          srcIp          dstIp   ipProto  srcPort  \\\n",
      "0     NaN      NaN   0x0800  192.168.1.249    104.98.5.24         6    47952   \n",
      "1     NaN      NaN   0x0800  192.168.1.249    104.98.5.24         6    48184   \n",
      "2     NaN      NaN   0x0800  192.168.1.249    192.168.1.1        17    55336   \n",
      "3     NaN      NaN   0x0800  192.168.1.249    192.168.1.1        17    55469   \n",
      "4     NaN      NaN   0x0800    23.12.64.41  192.168.1.249         6       80   \n",
      "\n",
      "   dstPort  protocol  allMatches   numPayloadOnePackets   numPayloadTwoPackets  \n",
      "0       80      http       http|                      1                      1  \n",
      "1       80      http       http|                      1                      1  \n",
      "2       53       dns        dns|                      2                      2  \n",
      "3       53       dns        dns|                      2                      2  \n",
      "4    44068      http       http|                      1                      1  \n"
     ]
    }
   ],
   "source": [
    "# reading csv file\n",
    "# filename = \"AwairAirQuality/AwairAirQuality_70886b100fc6.pcap_flowResult.csv\" \n",
    "# deviceFlowList = ['ipv4-17-67', 'ipv4-17-53', 'ipv4-6-443', 'ipv4-6-8883', 'ethernet-0x888e', 'ethernet-0x0006']\n",
    "  \n",
    "# filename = \"LiFXBulb/LiFXBulb_d073d5018308.pcap_flowResult.csv\"\n",
    "# deviceFlowList = ['ipv4-17-123', 'ipv4-17-56700', 'ipv4-17-67', 'ipv4-17-53', 'ipv4-6-56700', 'ipv6-58-*', 'ethernet-0x888e', 'ethernet-0x0006']\n",
    "\n",
    "# filename = \"PixStarPhotoFrame/PixStarPhotoFrame_e076d033bb85.pcap_flowResult.csv\"\n",
    "# deviceFlowList = ['ipv4-17-67', 'ipv4-17-137', 'ipv4-6-80', 'ipv4-6-443', 'ipv4-17-138', 'ipv4-17-53', 'ipv6-0-*', 'ipv6-58-*', 'ethernet-0x888e', 'ethernet-0x0006']\n",
    "\n",
    "# filename = \"RingDoorBell/RingDoorBell_884aea31669d.pcap_flowResult.csv\"  \n",
    "# deviceFlowList = ['ipv4-17-67', 'ipv4-17-53', 'ipv4-6-443', 'ipv4-6-80', 'ipv4-6-9998', 'ipv4-17-123', 'ethernet-0x888e', 'ethernet-0x0006']\n",
    "\n",
    "# filename = \"TPLinkCamera/TPLinkCamera_f4f26D9351f1.pcap_flowResult.csv\"  \n",
    "# deviceFlowList = ['ipv4-2-*', 'ipv4-17-67', 'ipv4-6-443', 'ipv4-17-123', 'ipv4-6-80', 'ipv4-17-80', 'ipv4-17-5353', 'ipv4-17-3478', 'ipv4-17-1068', 'ipv4-17-53', 'ipv4-6-8080', 'ethernet-0x888e', 'ethernet-0x0006']\n",
    "\n",
    "# filename = \"TribySpeaker/TribySpeaker_18B79E022044.pcap_flowResult.csv\"\n",
    "# deviceFlowList = ['ipv4-17-10003', 'ipv4-6-8090', 'ipv4-6-80', 'ipv4-17-123', 'ipv4-17-67', 'ipv4-17-10002', 'ipv4-17-53', 'ipv4-6-5228', 'ipv4-17-5353', 'ipv4-6-443', 'ipv6-58-*', 'ipv6-17-5353', 'ipv6-0-*', 'ethernet-0x0006', 'ethernet-0x888e']\n",
    "\n",
    "# filename = \"AmazonEcho/DUP_CONCATANATED_AmazonEcho_44650d56ccd3_flowResult.csv\"     \n",
    "# deviceFlowList = ['ipv4-6-443', 'ipv4-17-123', 'ipv4-2-*', 'ipv4-17-1900', 'ipv4-17-67', 'ipv4-1-*', 'ipv4-6-80', 'ipv4-17-53', 'ipv4-17-5353', 'ipv4-17-33434', 'ipv4-17-50000', 'ethernet-0x0006', 'ethernet-0x888e']\n",
    "\n",
    "# filename = \"WithingsSleepSensor/DUP_CONCATANATED_WithingsSleepSensor_0024e42028c6_flowResult.csv\"\n",
    "# deviceFlowList = ['ipv4-6-443', 'ipv4-17-53', 'ipv4-2-*', 'ipv4-17-67', 'ipv4-6-80', 'ipv4-17-5353', 'ethernet-0x888e']\n",
    "    \n",
    "# filename = \"WithingsBabyMonitor/WithingsBabyMonitor_0024e41118a8.pcapng_flowResult.csv\" \n",
    "# deviceFlowList = ['ipv4-6-1935', 'ipv4-17-53', 'ipv4-17-67', 'ipv4-17-5353', 'ipv4-6-80']\n",
    "   \n",
    "# filename = \"SamsungCamera/DUP_CONCATANATED_SamsungCamera_00166cab6b88_flowResult.csv\"    \n",
    "# deviceFlowList = ['ipv4-17-123', 'ipv4-2-*', 'ipv4-17-1900', 'ipv4-17-67', 'ipv4-17-53', 'ipv4-6-49152', 'ipv4-17-49152', 'ipv4-6-5222', 'ipv4-6-443', 'ipv4-6-80', 'ipv4-17-443', 'ipv6-58-*', 'ipv6-17-1900', 'ipv6-17-5353', 'ipv6-0-*', 'ethernet-0x0006', 'ethernet-0x888e']\n",
    "\n",
    "\n",
    "path = \"../../data/flowResults/V5/\"\n",
    "\n",
    "df = pd.read_csv(path + filename)\n",
    "print(df.info())\n",
    "print(df.head())\n",
    "# print(df.iloc[16880])\n"
   ]
  },
  {
   "attachments": {},
   "cell_type": "markdown",
   "metadata": {},
   "source": [
    "#### Number of entries"
   ]
  },
  {
   "cell_type": "code",
   "execution_count": 162,
   "metadata": {},
   "outputs": [
    {
     "name": "stdout",
     "output_type": "stream",
     "text": [
      "Number of entries: 56478\n"
     ]
    }
   ],
   "source": [
    "print(\"Number of entries:\", len(df))"
   ]
  },
  {
   "cell_type": "code",
   "execution_count": 163,
   "metadata": {},
   "outputs": [
    {
     "name": "stdout",
     "output_type": "stream",
     "text": [
      "Index(['srcMac', ' dstMac', ' ethType', ' srcIp', ' dstIp', ' ipProto',\n",
      "       ' srcPort', ' dstPort', ' protocol', ' allMatches',\n",
      "       ' numPayloadOnePackets', ' numPayloadTwoPackets'],\n",
      "      dtype='object')\n"
     ]
    }
   ],
   "source": [
    "cols = df.columns\n",
    "print(cols)"
   ]
  },
  {
   "attachments": {},
   "cell_type": "markdown",
   "metadata": {},
   "source": [
    "### Display the occurences of the protocols in flowResults.csv"
   ]
  },
  {
   "attachments": {},
   "cell_type": "markdown",
   "metadata": {},
   "source": [
    "#### Grouping the entries by protocol"
   ]
  },
  {
   "cell_type": "code",
   "execution_count": 164,
   "metadata": {},
   "outputs": [
    {
     "name": "stdout",
     "output_type": "stream",
     "text": [
      " protocol\n",
      "classic-stun       16\n",
      "dhcp               24\n",
      "dns             21238\n",
      "http            33198\n",
      "icmp               13\n",
      "igmp               40\n",
      "mdns               28\n",
      "none              642\n",
      "ntp               429\n",
      "rtsp                2\n",
      "snmp                6\n",
      "ssdp              687\n",
      "stun                1\n",
      "tls                65\n",
      "xmpp               89\n",
      "Name:  protocol, dtype: int64\n"
     ]
    }
   ],
   "source": [
    "print(df.groupby([' protocol'])[' protocol'].count())  # .count()  .groupby(' protocol')  [' protocol']  ' srcIp', ' dstIp', ' srcPort', ' dstPort', \n"
   ]
  },
  {
   "cell_type": "code",
   "execution_count": 165,
   "metadata": {},
   "outputs": [
    {
     "name": "stdout",
     "output_type": "stream",
     "text": [
      "length of total flows df: 56478\n",
      "length of ip flows df: 56478\n",
      "length of eth flows df: 0\n",
      "ip + eth flows adds up to total\n"
     ]
    }
   ],
   "source": [
    "# df_1 = df.loc[df[' protocol'].str.contains('tls')]  #  df[' srcPort'].str.contains('56700') & df[' ipProto'].str.contains('17') &   & df[' dstPort'].str.contains('56700') \n",
    "\n",
    "# getting the ip and eth flows from the dataframe\n",
    "df_ip = df.loc[~(df[' srcIp'].str.contains('\\*') & df[' dstIp'].str.contains(\"\\*\"))]  # if atleast one ip is not a star\n",
    "df_eth = df.loc[df[' srcIp'].str.contains('\\*') & df[' dstIp'].str.contains(\"\\*\")]  # \n",
    "\n",
    "print(\"length of total flows df:\", len(df))\n",
    "print(\"length of ip flows df:\", len(df_ip))\n",
    "print(\"length of eth flows df:\", len(df_eth))\n",
    "\n",
    "if(len(df) == (len(df_ip)+len(df_eth))):\n",
    "    print(\"ip + eth flows adds up to total\")\n",
    "else:\n",
    "    print(\"ip + eth flows DOES NOT add up to total\")\n"
   ]
  },
  {
   "cell_type": "code",
   "execution_count": 166,
   "metadata": {},
   "outputs": [
    {
     "name": "stdout",
     "output_type": "stream",
     "text": [
      "Number of MUD flow for the device: 17\n"
     ]
    }
   ],
   "source": [
    "'''\n",
    "    Dictionary to hold 1 dataframe for each MUD flow of the selected device.\n",
    "\n",
    "    MUDtoDF = {\n",
    "        'ipv4-17-67': <DATAFRAME.groupby(' protocol') ... containing the flow of the key MUD flow>\n",
    "    }\n",
    "'''\n",
    "MUDtoDF = {}\n",
    "\n",
    "# this for loop iterates once for each MUD flow of the selected device\n",
    "for flow in deviceFlowList:\n",
    "    # print(1)\n",
    "    # ' ethType'\n",
    "    temp2 = []\n",
    "    temp = flow.split('-')\n",
    "    ethType = temp[0]\n",
    "    # ipv4 and ipv6 MUD flows has common MUD flow structure \n",
    "    if ethType == 'ipv4' or ethType == 'ipv6':\n",
    "        ethType = '0x0800' if ethType == 'ipv4' else '0x86dd'\n",
    "        ipProto = temp[1]\n",
    "        port = temp[2]\n",
    "        MUD_df = df.loc[df[' ethType'].str.contains(ethType) & (df[' ipProto'] == int(ipProto)) & ((df[' srcPort']==port) | (df[' dstPort']==port))]  #\n",
    "        \n",
    "        # debugging\n",
    "        # print(f'ethType: {type(df[' ethType'])}, ipProto: {type(df[' ipProto'])}, port: {type(df[' srcPort'])}')\n",
    "        # if port == '*':\n",
    "        #     print('Printing IP dataframe with port == *')\n",
    "        #     print('port number is a *')\n",
    "        #     print(f'ethType: {ethType}, ipProto: {ipProto}, port: {port}')\n",
    "        #     print(MUD_df.head(), end='\\n\\n')\n",
    "    \n",
    "    # flows which are note ipv4 or ipv6 has a different common MUD flow structure\n",
    "    elif ethType == 'ethernet':\n",
    "        ethType = temp[1]\n",
    "        MUD_df = df.loc[df[' ethType'].str.contains(ethType)]  #\n",
    "\n",
    "        # debugging\n",
    "        # print('Printing ethernet dataframe')\n",
    "        # print(MUD_df.head(), end='\\n\\n')\n",
    "\n",
    "    else: print('NEITHER IP NOR ETHERNET --> ERROR')\n",
    "\n",
    "    # adding the \n",
    "    #    MUD flow : DF with the flows belonging to that MUD flow\n",
    "    # to the dictionary\n",
    "    MUDtoDF[flow] = MUD_df.groupby(' protocol')[' protocol'].count().reset_index(name='No. of flows')\n",
    "\n",
    "print(f'Number of MUD flow for the device: {len(MUDtoDF)}')\n",
    "\n"
   ]
  },
  {
   "cell_type": "code",
   "execution_count": 167,
   "metadata": {},
   "outputs": [
    {
     "name": "stdout",
     "output_type": "stream",
     "text": [
      "../../results/perDevice/SamsungCamera\n",
      "Directory \"../../results/perDevice/SamsungCamera\" deleted successfully.\n",
      "Directory \"../../results/perDevice/SamsungCamera\" created successfully.\n"
     ]
    }
   ],
   "source": [
    "import os\n",
    "import shutil\n",
    "# pd.DataFrame(MUDtoDF).to_csv('output_file.csv', index=False)\n",
    "deviceName = filename.split('/')[0]\n",
    "path = '../../results/perDevice'\n",
    "device_save_path = os.path.join(path, deviceName)\n",
    "print(device_save_path)\n",
    "# removing device directory if one exists\n",
    "if os.path.exists(device_save_path) and os.path.isdir(device_save_path):\n",
    "    # Remove the directory and its contents\n",
    "    try:\n",
    "        # Delete the entire directory and its contents\n",
    "        shutil.rmtree(device_save_path)\n",
    "        print(f'Directory \"{device_save_path}\" deleted successfully.')\n",
    "    except Exception as e:\n",
    "        print(f'Error deleting directory \"{device_save_path}\": {e}')\n",
    "else:\n",
    "    print(f'Directory \"{device_save_path}\" not found in \"{device_save_path}\".')\n",
    "\n",
    "\n",
    "os.mkdir(device_save_path)\n",
    "print(f'Directory \"{device_save_path}\" created successfully.')\n",
    "\n",
    "\n",
    "for k, v in MUDtoDF.items():\n",
    "    # debugging\n",
    "    # print(f'key: {k}, value: {v}')\n",
    "    # print(f'MUD flow: {k}')\n",
    "    # print('Protocol Count: ')\n",
    "    # print(v.groupby(' protocol')[' protocol'].count().reset_index(name='No. of flows'))\n",
    "    # print('\\n\\n')\n",
    "    # df_to_save = v.groupby(' protocol')[' protocol'].count().reset_index(name='No. of flows')\n",
    "\n",
    "    v.to_csv(f'{device_save_path}/{k}.csv', index=False)\n",
    "    \n",
    "# print(MUD_df.groupby(' protocol')[' protocol'].count().reset_index(name='No. of flows'))"
   ]
  }
 ],
 "metadata": {
  "kernelspec": {
   "display_name": "Python 3 (ipykernel)",
   "language": "python",
   "name": "python3"
  },
  "language_info": {
   "codemirror_mode": {
    "name": "ipython",
    "version": 3
   },
   "file_extension": ".py",
   "mimetype": "text/x-python",
   "name": "python",
   "nbconvert_exporter": "python",
   "pygments_lexer": "ipython3",
   "version": "3.10.12"
  },
  "orig_nbformat": 4,
  "vscode": {
   "interpreter": {
    "hash": "916dbcbb3f70747c44a77c7bcd40155683ae19c65e1c03b4aa3499c5328201f1"
   }
  }
 },
 "nbformat": 4,
 "nbformat_minor": 2
}
