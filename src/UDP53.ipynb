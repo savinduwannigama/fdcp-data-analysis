{
 "cells": [
  {
   "cell_type": "code",
   "execution_count": 15,
   "metadata": {},
   "outputs": [],
   "source": [
    "# importing pandas as pd\n",
    "import pandas as pd"
   ]
  },
  {
   "cell_type": "code",
   "execution_count": 16,
   "metadata": {},
   "outputs": [],
   "source": [
    "# array contains all the flowResult files which belongs to this MUD flow\n",
    "# DUP\n",
    "all_files = ['AwairAirQuality_70886b100fc6_flowResult.csv', 'PixStarPhotoFrame_e076d033bb85_flowResult.csv', 'RingDoorBell_884aea31669d_flowResult.csv', 'TPLinkCamera_f4f26D9351f1_flowResult.csv', 'TribySpeaker_18B79E022044_flowResult.csv', 'LiFXBulb_d073d5018308_flowResult.csv', 'AmazonEcho/DUP_CONCATANATED_AmazonEcho_44650d56ccd3_flowResult.csv', 'WithingsSleepSensor/DUP_CONCATANATED_WithingsSleepSensor_0024e42028c6_flowResult.csv', 'NestProtect/DUP_CONCATANATED_NestProtect_18b43025bee4_flowResult.csv']     \n"
   ]
  },
  {
   "cell_type": "code",
   "execution_count": 17,
   "metadata": {},
   "outputs": [],
   "source": [
    "# paths of other files\n",
    "# path = \"\"\n",
    "path = \"without_matching_fpd/UDP53_DNS/\"    "
   ]
  },
  {
   "cell_type": "code",
   "execution_count": 18,
   "metadata": {},
   "outputs": [],
   "source": [
    "# loading all the files as pandas dataframes\n",
    "all_dfs = []\n",
    "\n",
    "for filename in all_files:\n",
    "    df = pd.read_csv(\"../data/\"+ path + filename)\n",
    "    all_dfs.append(df)"
   ]
  },
  {
   "attachments": {},
   "cell_type": "markdown",
   "metadata": {},
   "source": [
    "#### Checking the number of flows in each device flow result"
   ]
  },
  {
   "cell_type": "code",
   "execution_count": 19,
   "metadata": {},
   "outputs": [
    {
     "name": "stdout",
     "output_type": "stream",
     "text": [
      "Number of flows in AwairAirQuality_70886b100fc6_flowResult.csv: 56878\n",
      "Number of flows in PixStarPhotoFrame_e076d033bb85_flowResult.csv: 22304\n",
      "Number of flows in RingDoorBell_884aea31669d_flowResult.csv: 4547\n",
      "Number of flows in TPLinkCamera_f4f26D9351f1_flowResult.csv: 72889\n",
      "Number of flows in TribySpeaker_18B79E022044_flowResult.csv: 157180\n",
      "Number of flows in LiFXBulb_d073d5018308_flowResult.csv: 145983\n",
      "Number of flows in AmazonEcho/DUP_CONCATANATED_AmazonEcho_44650d56ccd3_flowResult.csv: 317604\n",
      "Number of flows in WithingsSleepSensor/DUP_CONCATANATED_WithingsSleepSensor_0024e42028c6_flowResult.csv: 201636\n",
      "Number of flows in NestProtect/DUP_CONCATANATED_NestProtect_18b43025bee4_flowResult.csv: 258672\n",
      "Total number of flows: 2328048\n"
     ]
    }
   ],
   "source": [
    "total = 0\n",
    "for i in range(len(all_files)):\n",
    "    print('Number of flows in {0}: {1}'.format(all_files[i], len(all_dfs[i])))\n",
    "    total += len(df)\n",
    "print(\"Total number of flows:\", total)"
   ]
  },
  {
   "attachments": {},
   "cell_type": "markdown",
   "metadata": {},
   "source": [
    "#### Concatanating all the dataframes to get a single one for the MUD flow"
   ]
  },
  {
   "cell_type": "code",
   "execution_count": 20,
   "metadata": {},
   "outputs": [
    {
     "name": "stdout",
     "output_type": "stream",
     "text": [
      "<class 'pandas.core.frame.DataFrame'>\n",
      "RangeIndex: 1237693 entries, 0 to 1237692\n",
      "Data columns (total 9 columns):\n",
      " #   Column     Non-Null Count    Dtype \n",
      "---  ------     --------------    ----- \n",
      " 0   srcMac     800919 non-null   object\n",
      " 1    dstMac    800919 non-null   object\n",
      " 2    ethType   1237693 non-null  object\n",
      " 3    srcIp     1237693 non-null  object\n",
      " 4    dstIp     1237693 non-null  object\n",
      " 5    ipProto   1237693 non-null  object\n",
      " 6    srcPort   1237693 non-null  object\n",
      " 7    dstPort   1237693 non-null  object\n",
      " 8    protocol  1237693 non-null  object\n",
      "dtypes: object(9)\n",
      "memory usage: 85.0+ MB\n"
     ]
    },
    {
     "data": {
      "text/plain": [
       "None"
      ]
     },
     "metadata": {},
     "output_type": "display_data"
    }
   ],
   "source": [
    "\n",
    "total_df = pd.concat(all_dfs, axis=0, ignore_index=True)\n",
    "display(total_df.info())"
   ]
  },
  {
   "attachments": {},
   "cell_type": "markdown",
   "metadata": {},
   "source": [
    "#### Classifying the flows based on the matched protocol"
   ]
  },
  {
   "cell_type": "code",
   "execution_count": 21,
   "metadata": {},
   "outputs": [
    {
     "name": "stdout",
     "output_type": "stream",
     "text": [
      "   protocol  No. of flows\n",
      "0      none        113792\n",
      "1       rtp           161\n",
      "2    srvloc            73\n"
     ]
    }
   ],
   "source": [
    "# getting the flows for this MUD flow\n",
    "MUD_df = total_df.loc[total_df[' ipProto'].str.contains('17') & ((total_df[' srcPort']=='53') | (total_df[' dstPort']=='53'))]  #\n",
    "print(MUD_df.groupby(' protocol')[' protocol'].count().reset_index(name='No. of flows'))"
   ]
  },
  {
   "attachments": {},
   "cell_type": "markdown",
   "metadata": {},
   "source": []
  }
 ],
 "metadata": {
  "kernelspec": {
   "display_name": "Python 3",
   "language": "python",
   "name": "python3"
  },
  "language_info": {
   "codemirror_mode": {
    "name": "ipython",
    "version": 3
   },
   "file_extension": ".py",
   "mimetype": "text/x-python",
   "name": "python",
   "nbconvert_exporter": "python",
   "pygments_lexer": "ipython3",
   "version": "3.10.6 (main, Nov 14 2022, 16:10:14) [GCC 11.3.0]"
  },
  "orig_nbformat": 4,
  "vscode": {
   "interpreter": {
    "hash": "916dbcbb3f70747c44a77c7bcd40155683ae19c65e1c03b4aa3499c5328201f1"
   }
  }
 },
 "nbformat": 4,
 "nbformat_minor": 2
}
