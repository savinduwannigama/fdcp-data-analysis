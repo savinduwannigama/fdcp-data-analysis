{
 "cells": [
  {
   "cell_type": "code",
   "execution_count": 1,
   "metadata": {},
   "outputs": [],
   "source": [
    "# importing pandas as pd\n",
    "import pandas as pd"
   ]
  },
  {
   "cell_type": "code",
   "execution_count": 2,
   "metadata": {},
   "outputs": [],
   "source": [
    "# array contains all the flowResult files which belongs to this MUD flow\n",
    "all_files = ['TPLinkCamera_f4f26D9351f1_flowResult.csv']"
   ]
  },
  {
   "cell_type": "code",
   "execution_count": null,
   "metadata": {},
   "outputs": [],
   "source": [
    "# paths of other files\n",
    "path = \"\"\n",
    "# path = \"without_matching_fpd/UDP1068/\"  "
   ]
  },
  {
   "cell_type": "code",
   "execution_count": 3,
   "metadata": {},
   "outputs": [],
   "source": [
    "# loading all the files as pandas dataframes\n",
    "all_dfs = []\n",
    "\n",
    "for filename in all_files:\n",
    "    df = pd.read_csv(\"../data/\" + path + filename)\n",
    "    all_dfs.append(df)"
   ]
  },
  {
   "attachments": {},
   "cell_type": "markdown",
   "metadata": {},
   "source": [
    "#### Checking the number of flows in each device flow result"
   ]
  },
  {
   "cell_type": "code",
   "execution_count": 4,
   "metadata": {},
   "outputs": [
    {
     "name": "stdout",
     "output_type": "stream",
     "text": [
      "Number of flows in TPLinkCamera_f4f26D9351f1_flowResult.csv: 72889\n",
      "Total number of flows: 72889\n"
     ]
    }
   ],
   "source": [
    "total = 0\n",
    "for i in range(len(all_files)):\n",
    "    print('Number of flows in {0}: {1}'.format(all_files[i], len(all_dfs[i])))\n",
    "    total += len(df)\n",
    "print(\"Total number of flows:\", total)"
   ]
  },
  {
   "attachments": {},
   "cell_type": "markdown",
   "metadata": {},
   "source": [
    "#### Concatanating all the dataframes to get a single one for the MUD flow"
   ]
  },
  {
   "cell_type": "code",
   "execution_count": 5,
   "metadata": {},
   "outputs": [
    {
     "name": "stdout",
     "output_type": "stream",
     "text": [
      "<class 'pandas.core.frame.DataFrame'>\n",
      "RangeIndex: 72889 entries, 0 to 72888\n",
      "Data columns (total 9 columns):\n",
      " #   Column     Non-Null Count  Dtype \n",
      "---  ------     --------------  ----- \n",
      " 0   srcMac     62340 non-null  object\n",
      " 1    dstMac    62340 non-null  object\n",
      " 2    ethType   72889 non-null  object\n",
      " 3    srcIp     72889 non-null  object\n",
      " 4    dstIp     72889 non-null  object\n",
      " 5    ipProto   72889 non-null  object\n",
      " 6    srcPort   72889 non-null  object\n",
      " 7    dstPort   72889 non-null  object\n",
      " 8    protocol  72889 non-null  object\n",
      "dtypes: object(9)\n",
      "memory usage: 5.0+ MB\n"
     ]
    },
    {
     "data": {
      "text/plain": [
       "None"
      ]
     },
     "metadata": {},
     "output_type": "display_data"
    }
   ],
   "source": [
    "\n",
    "total_df = pd.concat(all_dfs, axis=0, ignore_index=True)\n",
    "display(total_df.info())"
   ]
  },
  {
   "attachments": {},
   "cell_type": "markdown",
   "metadata": {},
   "source": [
    "#### Classifying the flows based on the matched protocol"
   ]
  },
  {
   "cell_type": "code",
   "execution_count": 6,
   "metadata": {},
   "outputs": [
    {
     "name": "stdout",
     "output_type": "stream",
     "text": [
      "   protocol  No. of flows\n",
      "0      none             3\n",
      "1    srvloc             3\n"
     ]
    }
   ],
   "source": [
    "# getting the flows for this MUD flow\n",
    "MUD_df = df.loc[df[' ipProto'].str.contains('17') & ((df[' srcPort']=='1068') | (df[' dstPort']=='1068'))]  #\n",
    "print(MUD_df.groupby(' protocol')[' protocol'].count().reset_index(name='No. of flows'))"
   ]
  },
  {
   "attachments": {},
   "cell_type": "markdown",
   "metadata": {},
   "source": []
  }
 ],
 "metadata": {
  "kernelspec": {
   "display_name": "Python 3",
   "language": "python",
   "name": "python3"
  },
  "language_info": {
   "codemirror_mode": {
    "name": "ipython",
    "version": 3
   },
   "file_extension": ".py",
   "mimetype": "text/x-python",
   "name": "python",
   "nbconvert_exporter": "python",
   "pygments_lexer": "ipython3",
   "version": "3.10.6 (main, Nov 14 2022, 16:10:14) [GCC 11.3.0]"
  },
  "orig_nbformat": 4,
  "vscode": {
   "interpreter": {
    "hash": "916dbcbb3f70747c44a77c7bcd40155683ae19c65e1c03b4aa3499c5328201f1"
   }
  }
 },
 "nbformat": 4,
 "nbformat_minor": 2
}
