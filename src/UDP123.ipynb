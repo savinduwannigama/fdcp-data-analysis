{
 "cells": [
  {
   "cell_type": "code",
   "execution_count": 1,
   "metadata": {},
   "outputs": [],
   "source": [
    "# importing pandas as pd\n",
    "import pandas as pd"
   ]
  },
  {
   "cell_type": "code",
   "execution_count": 2,
   "metadata": {},
   "outputs": [],
   "source": [
    "# array contains all the flowResult files which belongs to this MUD flow\n",
    "# DUP\n",
    "all_files = ['TPLinkCamera_f4f26D9351f1_flowResult.csv', 'TribySpeaker_18B79E022044_flowResult.csv', 'LiFXBulb_d073d5018308_flowResult.csv', 'RingDoorBell_884aea31669d_flowResult.csv', 'AmazonEcho/DUP_CONCATANATED_AmazonEcho_44650d56ccd3_flowResult.csv']    \n"
   ]
  },
  {
   "cell_type": "code",
   "execution_count": 3,
   "metadata": {},
   "outputs": [],
   "source": [
    "# paths of other files\n",
    "# path = \"\"\n",
    "path = \"without_matching_fpd/UDP123_NTP/\"    "
   ]
  },
  {
   "cell_type": "code",
   "execution_count": 4,
   "metadata": {},
   "outputs": [],
   "source": [
    "# loading all the files as pandas dataframes\n",
    "all_dfs = []\n",
    "\n",
    "for filename in all_files:\n",
    "    df = pd.read_csv(\"../data/\" + path + filename)\n",
    "    all_dfs.append(df)"
   ]
  },
  {
   "attachments": {},
   "cell_type": "markdown",
   "metadata": {},
   "source": [
    "#### Checking the number of flows in each device flow result"
   ]
  },
  {
   "cell_type": "code",
   "execution_count": 5,
   "metadata": {},
   "outputs": [
    {
     "name": "stdout",
     "output_type": "stream",
     "text": [
      "Number of flows in TPLinkCamera_f4f26D9351f1_flowResult.csv: 72889\n",
      "Number of flows in TribySpeaker_18B79E022044_flowResult.csv: 157180\n",
      "Number of flows in LiFXBulb_d073d5018308_flowResult.csv: 145983\n",
      "Number of flows in RingDoorBell_884aea31669d_flowResult.csv: 4547\n",
      "Number of flows in AmazonEcho/DUP_CONCATANATED_AmazonEcho_44650d56ccd3_flowResult.csv: 317604\n",
      "Total number of flows: 1588020\n"
     ]
    }
   ],
   "source": [
    "total = 0\n",
    "for i in range(len(all_files)):\n",
    "    print('Number of flows in {0}: {1}'.format(all_files[i], len(all_dfs[i])))\n",
    "    total += len(df)\n",
    "print(\"Total number of flows:\", total)"
   ]
  },
  {
   "attachments": {},
   "cell_type": "markdown",
   "metadata": {},
   "source": [
    "#### Concatanating all the dataframes to get a single one for the MUD flow"
   ]
  },
  {
   "cell_type": "code",
   "execution_count": 6,
   "metadata": {},
   "outputs": [
    {
     "name": "stdout",
     "output_type": "stream",
     "text": [
      "<class 'pandas.core.frame.DataFrame'>\n",
      "RangeIndex: 698203 entries, 0 to 698202\n",
      "Data columns (total 9 columns):\n",
      " #   Column     Non-Null Count   Dtype \n",
      "---  ------     --------------   ----- \n",
      " 0   srcMac     564364 non-null  object\n",
      " 1    dstMac    564364 non-null  object\n",
      " 2    ethType   698203 non-null  object\n",
      " 3    srcIp     698203 non-null  object\n",
      " 4    dstIp     698203 non-null  object\n",
      " 5    ipProto   698203 non-null  object\n",
      " 6    srcPort   698203 non-null  object\n",
      " 7    dstPort   698203 non-null  object\n",
      " 8    protocol  698203 non-null  object\n",
      "dtypes: object(9)\n",
      "memory usage: 47.9+ MB\n"
     ]
    },
    {
     "data": {
      "text/plain": [
       "None"
      ]
     },
     "metadata": {},
     "output_type": "display_data"
    }
   ],
   "source": [
    "\n",
    "total_df = pd.concat(all_dfs, axis=0, ignore_index=True)\n",
    "display(total_df.info())"
   ]
  },
  {
   "attachments": {},
   "cell_type": "markdown",
   "metadata": {},
   "source": [
    "#### Classifying the flows based on the matched protocol"
   ]
  },
  {
   "cell_type": "code",
   "execution_count": 7,
   "metadata": {},
   "outputs": [
    {
     "name": "stdout",
     "output_type": "stream",
     "text": [
      "   protocol  No. of flows\n",
      "0    isakmp            66\n",
      "1      none         18106\n"
     ]
    }
   ],
   "source": [
    "# getting the flows for this MUD flow\n",
    "MUD_df = total_df.loc[total_df[' ipProto'].str.contains('17') & ((total_df[' srcPort']=='123') | (total_df[' dstPort']=='123'))]  #\n",
    "print(MUD_df.groupby(' protocol')[' protocol'].count().reset_index(name='No. of flows'))"
   ]
  },
  {
   "attachments": {},
   "cell_type": "markdown",
   "metadata": {},
   "source": []
  }
 ],
 "metadata": {
  "kernelspec": {
   "display_name": "Python 3",
   "language": "python",
   "name": "python3"
  },
  "language_info": {
   "codemirror_mode": {
    "name": "ipython",
    "version": 3
   },
   "file_extension": ".py",
   "mimetype": "text/x-python",
   "name": "python",
   "nbconvert_exporter": "python",
   "pygments_lexer": "ipython3",
   "version": "3.10.6"
  },
  "orig_nbformat": 4,
  "vscode": {
   "interpreter": {
    "hash": "916dbcbb3f70747c44a77c7bcd40155683ae19c65e1c03b4aa3499c5328201f1"
   }
  }
 },
 "nbformat": 4,
 "nbformat_minor": 2
}
