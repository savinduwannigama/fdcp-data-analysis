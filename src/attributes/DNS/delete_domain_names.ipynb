{
 "cells": [
  {
   "cell_type": "code",
   "execution_count": 31,
   "metadata": {},
   "outputs": [],
   "source": [
    "def insert_string_between_chars(main_string, insert_string=\"\\\\x\"):\n",
    "    result = '\\\\x' + insert_string.join(main_string[i:i+2] for i in range(0, len(main_string), 2))\n",
    "    return result\n",
    "\n",
    "\n"
   ]
  },
  {
   "cell_type": "code",
   "execution_count": 36,
   "metadata": {},
   "outputs": [
    {
     "name": "stdout",
     "output_type": "stream",
     "text": [
      "domain_name_bytes 1: 0266770472696e6703636f6d00000100016b6101\n",
      "domain_name_bytes 2: b'\\x02fw\\x04ring\\x03com\\x00\\x00\\x01\\x00\\x01ka\\x01'\n",
      "Domain Name: fw.ring.com\n"
     ]
    }
   ],
   "source": [
    "def convert_bytes_to_domain_name(domain_bytes):\n",
    "    domain_parts = []\n",
    "    i = 0\n",
    "\n",
    "    while i < len(domain_bytes):\n",
    "        label_length = domain_bytes[i]\n",
    "        if label_length == 0:\n",
    "            break\n",
    "        \n",
    "        label = domain_bytes[i+1:i+1+label_length].decode('utf-8')\n",
    "        domain_parts.append(label)\n",
    "        i += label_length + 1\n",
    "\n",
    "    return '.'.join(domain_parts)\n",
    "\n",
    "\n",
    "domain_name_bytes = \"0266770472696e6703636f6d00000100016b6101\"  # Example hexadecimal string\n",
    "print(f'domain_name_bytes 1: {domain_name_bytes}')\n",
    "# Convert the hexadecimal string to a byte literal\n",
    "domain_name_bytes = bytes.fromhex(domain_name_bytes)\n",
    "print(f'domain_name_bytes 2: {domain_name_bytes}')\n",
    "\n",
    "# Convert and print the domain name as a string\n",
    "domain_name_string = convert_bytes_to_domain_name(domain_name_bytes)\n",
    "print(\"Domain Name:\", domain_name_string)\n"
   ]
  },
  {
   "cell_type": "code",
   "execution_count": 35,
   "metadata": {},
   "outputs": [
    {
     "name": "stdout",
     "output_type": "stream",
     "text": [
      "Byte Literal: b'\\x02fw\\x04ring\\x03com\\x00\\x00\\x01\\x00\\x01ka\\x01'\n"
     ]
    }
   ],
   "source": [
    "hex_string = \"0266770472696e6703636f6d00000100016b6101\"  # Example hexadecimal string\n",
    "\n",
    "# Convert the hexadecimal string to a byte literal\n",
    "byte_literal = bytes.fromhex(hex_string)\n",
    "\n",
    "print(\"Byte Literal:\", byte_literal)"
   ]
  },
  {
   "cell_type": "code",
   "execution_count": 5,
   "metadata": {},
   "outputs": [
    {
     "name": "stdout",
     "output_type": "stream",
     "text": [
      "Domain Name: www.exam.le\u0003com\u0000\n"
     ]
    }
   ],
   "source": [
    "def convert_bytes_to_domain_name(domain_bytes):\n",
    "    domain_parts = []\n",
    "    i = 0\n",
    "\n",
    "    while i < len(domain_bytes):\n",
    "        label_length = domain_bytes[i]\n",
    "        if label_length == 0:\n",
    "            break\n",
    "\n",
    "        label = domain_bytes[i+1:i+1+label_length].decode('utf-8')\n",
    "        domain_parts.append(label)\n",
    "        i += label_length + 1\n",
    "\n",
    "    return '.'.join(domain_parts)\n",
    "\n",
    "# Example DNS domain name bytes\n",
    "domain_name_bytes = b'\\x03\\x77\\x77\\x77\\x04\\x65\\x78\\x61\\x6d\\x70\\x6c\\x65\\x03\\x63\\x6f\\x6d\\x00'\n",
    "\n",
    "# Convert and print the domain name as a string\n",
    "domain_name_string = convert_bytes_to_domain_name(domain_name_bytes)\n",
    "print(\"Domain Name:\", domain_name_string)\n"
   ]
  }
 ],
 "metadata": {
  "kernelspec": {
   "display_name": "Python 3",
   "language": "python",
   "name": "python3"
  },
  "language_info": {
   "codemirror_mode": {
    "name": "ipython",
    "version": 3
   },
   "file_extension": ".py",
   "mimetype": "text/x-python",
   "name": "python",
   "nbconvert_exporter": "python",
   "pygments_lexer": "ipython3",
   "version": "3.10.12"
  },
  "orig_nbformat": 4
 },
 "nbformat": 4,
 "nbformat_minor": 2
}
