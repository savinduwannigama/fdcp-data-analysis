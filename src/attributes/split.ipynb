{
 "cells": [
  {
   "attachments": {},
   "cell_type": "markdown",
   "metadata": {},
   "source": [
    "#### splitting main attributes\n"
   ]
  },
  {
   "cell_type": "code",
   "execution_count": 14,
   "metadata": {},
   "outputs": [],
   "source": [
    "input_data = {'domain name,,': {'babyws.withings.net': 5055, 'fr-eqx-fwd-03.withi': 9, 'us-iweb-fwd-05-lxc-': 1, 'fr-on-fwd-01.within': 1, 'fr-on-vm-02-lxc-05.': 2}, 'number_of_unique_flows': 5068}"
   ]
  },
  {
   "cell_type": "code",
   "execution_count": 15,
   "metadata": {},
   "outputs": [
    {
     "name": "stdout",
     "output_type": "stream",
     "text": [
      "domain name,,|babyws.withings.net|||5055|||||\n",
      "|fr-eqx-fwd-03.withi|||9|||||\n",
      "|us-iweb-fwd-05-lxc-|||1|||||\n",
      "|fr-on-fwd-01.within|||1|||||\n",
      "|fr-on-vm-02-lxc-05.|||2|||||\n",
      "number_of_unique_flows||||5068|||||\n"
     ]
    }
   ],
   "source": [
    "output_lines = []\n",
    "for key, values in input_data.items():\n",
    "    counter = 0\n",
    "    if isinstance(values, dict):\n",
    "        # output_lines.append(f\"{key}:\")\n",
    "        for sub_key, value in values.items():\n",
    "            if counter > 0:\n",
    "                output_lines.append(f\"{''}|{sub_key}|||{value}|||||\")\n",
    "            else:\n",
    "                output_lines.append(f\"{key}|{sub_key}|||{value}|||||\")\n",
    "                counter += 1\n",
    "    else:\n",
    "        output_lines.append(f\"{key}||||{values}|||||\")\n",
    "\n",
    "output_text = \"\\n\".join(output_lines)\n",
    "print(output_text)\n"
   ]
  },
  {
   "attachments": {},
   "cell_type": "markdown",
   "metadata": {},
   "source": [
    "#### splitting standard non-standard\n"
   ]
  },
  {
   "cell_type": "code",
   "execution_count": 19,
   "metadata": {},
   "outputs": [],
   "source": [
    "from collections import OrderedDict"
   ]
  },
  {
   "cell_type": "code",
   "execution_count": 20,
   "metadata": {},
   "outputs": [],
   "source": [
    "input_data = {'method': {'standard': {None: 1}, 'nonstandard': {'M-SEARCH': 1}}, 'request version': {'standard': {None: 1}, 'nonstandard': {'HTTP/1.1': 1}}, 'search type': {'standard': {None: 1}, 'nonstandard': {'\"ssdp:discover\"': 1}}, 'search target': {'standard': {None: 1}, 'nonstandard': {'upnp:rootdevice': 1}}, 'uri': {'standard': {None: 1}, 'nonstandard': {'*': 1}}, 'user-agent,,': {'standard': {None: 1}, 'nonstandard': {'Linux/3.4.39 UPnP/1.1 HUPnP/1.1,,': 1}}, 'number_of_unique_flows': 2}"
   ]
  },
  {
   "cell_type": "code",
   "execution_count": 21,
   "metadata": {},
   "outputs": [
    {
     "name": "stdout",
     "output_type": "stream",
     "text": [
      "method|None|1|0|1|||||\n",
      "|M-SEARCH|0|1|1|||||\n",
      "request version|None|1|0|1|||||\n",
      "|HTTP/1.1|0|1|1|||||\n",
      "search type|None|1|0|1|||||\n",
      "|\"ssdp:discover\"|0|1|1|||||\n",
      "search target|None|1|0|1|||||\n",
      "|upnp:rootdevice|0|1|1|||||\n",
      "uri|None|1|0|1|||||\n",
      "|*|0|1|1|||||\n",
      "user-agent,,|None|1|0|1|||||\n",
      "|Linux/3.4.39 UPnP/1.1 HUPnP/1.1,,|0|1|1|||||\n"
     ]
    }
   ],
   "source": [
    "output_lines = []\n",
    "for attr, dict1 in input_data.items():\n",
    "    # counter = 0\n",
    "    # print(attr)\n",
    "    # line1 = f'{attr}|'\n",
    "    if isinstance(dict1, dict):\n",
    "        # output_lines.append(f\"{key}:\")\n",
    "        val_list = list(dict1['standard'].keys()) + list(dict1['nonstandard'].keys())\n",
    "        val_list = list(OrderedDict.fromkeys(val_list))\n",
    "        # print(f'val_list: {val_list}')\n",
    "        counter = 0\n",
    "        for val in val_list:\n",
    "            if val in dict1[\"standard\"]:\n",
    "                std_num = dict1[\"standard\"][val]\n",
    "            else:\n",
    "                std_num = 0  \n",
    "\n",
    "            if val in dict1[\"nonstandard\"]:\n",
    "                nonstd_num = dict1[\"nonstandard\"][val]\n",
    "            else:\n",
    "                nonstd_num = 0      \n",
    "            \n",
    "            if counter > 0:\n",
    "                line1 =  f'|{val}|{std_num}|{nonstd_num}|{int(std_num)+int(nonstd_num)}|||||'\n",
    "                output_lines.append(line1)\n",
    "            else:\n",
    "                line1 = f'{attr}|{val}|{std_num}|{nonstd_num}|{int(std_num)+int(nonstd_num)}|||||'\n",
    "                output_lines.append(line1)\n",
    "                counter += 1\n",
    "    else:\n",
    "        # output_lines.append(f\"{key}||||{values}|||||\")\n",
    "        # print(f'not a dict: {dict1}')\n",
    "        continue\n",
    "\n",
    "output_text = \"\\n\".join(output_lines)\n",
    "print(output_text)\n"
   ]
  },
  {
   "cell_type": "code",
   "execution_count": null,
   "metadata": {},
   "outputs": [],
   "source": []
  }
 ],
 "metadata": {
  "kernelspec": {
   "display_name": "Python 3",
   "language": "python",
   "name": "python3"
  },
  "language_info": {
   "codemirror_mode": {
    "name": "ipython",
    "version": 3
   },
   "file_extension": ".py",
   "mimetype": "text/x-python",
   "name": "python",
   "nbconvert_exporter": "python",
   "pygments_lexer": "ipython3",
   "version": "3.10.12"
  },
  "orig_nbformat": 4
 },
 "nbformat": 4,
 "nbformat_minor": 2
}
