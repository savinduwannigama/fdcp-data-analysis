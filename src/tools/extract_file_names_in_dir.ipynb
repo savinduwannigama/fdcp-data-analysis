{
 "cells": [
  {
   "cell_type": "code",
   "execution_count": 48,
   "metadata": {},
   "outputs": [],
   "source": [
    "import shutil\n",
    "import os\n"
   ]
  },
  {
   "cell_type": "code",
   "execution_count": 49,
   "metadata": {},
   "outputs": [],
   "source": [
    "## change the device name here\n",
    "device = 'TribySpeaker'"
   ]
  },
  {
   "cell_type": "code",
   "execution_count": 52,
   "metadata": {},
   "outputs": [],
   "source": [
    "path = \"../../results/perDevice\"\n",
    "dir_path = os.path.join(path, device)\n",
    "# print(dir_path)\n",
    "listOfMUDFlows = []\n",
    "for fileName in os.listdir(dir_path):\n",
    "    # print(fileName) \n",
    "    mudFlow = fileName.split(\".\")[0]\n",
    "    # print(mudFlow)\n",
    "    listOfMUDFlows.append(mudFlow)\n",
    "listOfMUDFlows.sort()\n",
    "# print(listOfMUDFlows)"
   ]
  },
  {
   "cell_type": "code",
   "execution_count": 51,
   "metadata": {},
   "outputs": [],
   "source": [
    "import csv\n",
    "\n",
    "with open('DELETE_mudFlowList.csv', 'w', newline='') as csvfile:\n",
    "    csv_writer = csv.writer(csvfile)\n",
    "    csv_writer.writerow(listOfMUDFlows)"
   ]
  }
 ],
 "metadata": {
  "kernelspec": {
   "display_name": "Python 3",
   "language": "python",
   "name": "python3"
  },
  "language_info": {
   "codemirror_mode": {
    "name": "ipython",
    "version": 3
   },
   "file_extension": ".py",
   "mimetype": "text/x-python",
   "name": "python",
   "nbconvert_exporter": "python",
   "pygments_lexer": "ipython3",
   "version": "3.10.12"
  },
  "orig_nbformat": 4
 },
 "nbformat": 4,
 "nbformat_minor": 2
}
